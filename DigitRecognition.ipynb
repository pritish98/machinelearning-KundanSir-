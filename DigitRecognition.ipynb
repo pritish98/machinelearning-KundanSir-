{
  "nbformat": 4,
  "nbformat_minor": 0,
  "metadata": {
    "colab": {
      "name": "Copy of Untitled1.ipynb",
      "provenance": []
    },
    "kernelspec": {
      "name": "python3",
      "display_name": "Python 3"
    }
  },
  "cells": [
    {
      "cell_type": "markdown",
      "metadata": {
        "id": "AYk4c526WbjL",
        "colab_type": "text"
      },
      "source": [
        " here we will be using MNIST dataset of handwritten digits\n",
        " \n",
        " total images : 70000\n",
        " \n",
        " train images : 60000\n",
        " \n",
        " test images : 10000\n",
        "\n",
        " image size: 28 * 28 pixels\n"
      ]
    },
    {
      "cell_type": "code",
      "metadata": {
        "id": "ED3cU0IOWFo3",
        "colab_type": "code",
        "colab": {}
      },
      "source": [
        "\n",
        "\n",
        "import torch\n",
        "import torchvision"
      ],
      "execution_count": null,
      "outputs": []
    },
    {
      "cell_type": "code",
      "metadata": {
        "id": "pPfN2gFRW2u5",
        "colab_type": "code",
        "colab": {
          "base_uri": "https://localhost:8080/",
          "height": 34
        },
        "outputId": "666f0283-0f14-40ca-994a-247c079f9d00"
      },
      "source": [
        "n_epochs = 3\n",
        "batch_size_train = 64\n",
        "batch_size_test = 1000\n",
        "learning_rate=0.01\n",
        "momentum = 0.5\n",
        "log_interval = 10\n",
        "\n",
        "random_seed = 1\n",
        "torch.backends.cudnn.enabled = False\n",
        "torch.manual_seed(random_seed)\n"
      ],
      "execution_count": null,
      "outputs": [
        {
          "output_type": "execute_result",
          "data": {
            "text/plain": [
              "<torch._C.Generator at 0x7f929c4eaab0>"
            ]
          },
          "metadata": {
            "tags": []
          },
          "execution_count": 3
        }
      ]
    },
    {
      "cell_type": "markdown",
      "metadata": {
        "id": "1H00VOTXYaUK",
        "colab_type": "text"
      },
      "source": [
        "for experiments we use random seed which can be any random number\n",
        "\n",
        "the cuDNN has non deterministic algorithms : False is used to disable this functionality\n"
      ]
    },
    {
      "cell_type": "markdown",
      "metadata": {
        "id": "KVbFXHtaZCNx",
        "colab_type": "text"
      },
      "source": [
        "training batch size: 64\n",
        "\n",
        "testing  batch size : 1000\n",
        "\n",
        "For MNIST dataset :\n",
        "\n",
        "The values 0.1307 and 0.3081 used for the Normalize() transformation below are the global mean and standard deviation of the MNIST dataset, we'll take them as a given here."
      ]
    },
    {
      "cell_type": "code",
      "metadata": {
        "id": "AqMbB5xFY0lC",
        "colab_type": "code",
        "colab": {}
      },
      "source": [
        "train_loader = torch.utils.data.DataLoader(\n",
        "    torchvision.datasets.MNIST('/files/', train = True , download = True , transform = torchvision.transforms.Compose([\n",
        "                                                                                                                       torchvision.transforms.ToTensor(),\n",
        "                                                                                                                       torchvision.transforms.Normalize((0.1307,),(0.3081,))\n",
        "    ])),batch_size = batch_size_train,shuffle = True)\n",
        "\n",
        "test_loader = torch.utils.data.DataLoader(\n",
        "    torchvision.datasets.MNIST('/files/', train = True , download = True , transform = torchvision.transforms.Compose([\n",
        "                                                                                                                       torchvision.transforms.ToTensor(),\n",
        "                                                                                                                       torchvision.transforms.Normalize((0.1307,),(0.3081,))\n",
        "    ])),batch_size = batch_size_test,shuffle = True)\n"
      ],
      "execution_count": null,
      "outputs": []
    },
    {
      "cell_type": "code",
      "metadata": {
        "id": "PSOS4A49caLM",
        "colab_type": "code",
        "colab": {}
      },
      "source": [
        "examples =  enumerate(test_loader)\n",
        "\n",
        "batch_idx , (example_data,example_targets) = next(examples)"
      ],
      "execution_count": null,
      "outputs": []
    },
    {
      "cell_type": "code",
      "metadata": {
        "id": "FMJx7bmEfXd-",
        "colab_type": "code",
        "colab": {
          "base_uri": "https://localhost:8080/",
          "height": 34
        },
        "outputId": "3770ab19-89e8-4aea-b460-96612c087d84"
      },
      "source": [
        "example_data.shape\n"
      ],
      "execution_count": null,
      "outputs": [
        {
          "output_type": "execute_result",
          "data": {
            "text/plain": [
              "torch.Size([1000, 1, 28, 28])"
            ]
          },
          "metadata": {
            "tags": []
          },
          "execution_count": 12
        }
      ]
    },
    {
      "cell_type": "code",
      "metadata": {
        "id": "eOEpmAetgPvq",
        "colab_type": "code",
        "colab": {
          "base_uri": "https://localhost:8080/",
          "height": 284
        },
        "outputId": "d5ff902d-aa3f-4041-ef93-3818c7c2725b"
      },
      "source": [
        "import matplotlib.pyplot as plt\n",
        "\n",
        "fig = plt.figure()\n",
        "for i in range(6):\n",
        "  plt.subplot(2,3,i+1)\n",
        "  plt.tight_layout()\n",
        "  plt.imshow(example_data[i][0], cmap = 'gray' , interpolation = 'none')\n",
        "  plt.title(\"Ground Truth : {}\".format(example_targets[i]))\n",
        "  plt.xticks([])\n",
        "  plt.yticks([])\n",
        "\n"
      ],
      "execution_count": null,
      "outputs": [
        {
          "output_type": "display_data",
          "data": {
            "image/png": "[encoded data removed]",
            "text/plain": [
              "<Figure size 432x288 with 6 Axes>"
            ]
          },
          "metadata": {
            "tags": []
          }
        }
      ]
    },
    {
      "cell_type": "code",
      "metadata": {
        "id": "Jto8XMLXimFI",
        "colab_type": "code",
        "colab": {
          "base_uri": "https://localhost:8080/",
          "height": 34
        },
        "outputId": "c9da6e37-daae-46a7-eb86-c90b536f2831"
      },
      "source": [
        "example_data.size"
      ],
      "execution_count": null,
      "outputs": [
        {
          "output_type": "execute_result",
          "data": {
            "text/plain": [
              "<function Tensor.size>"
            ]
          },
          "metadata": {
            "tags": []
          },
          "execution_count": 16
        }
      ]
    },
    {
      "cell_type": "markdown",
      "metadata": {
        "id": "DMbNfAAZjEnp",
        "colab_type": "text"
      },
      "source": [
        "**Building the Networks**\n",
        "\n",
        "2-D cnn : 2\n",
        "linear layer : 2\n",
        "Activation function : rectified linear unit(Relu)\n",
        "2 Dropout layers for Regularization\n",
        "\n"
      ]
    },
    {
      "cell_type": "code",
      "metadata": {
        "id": "Tdfy-RSnj3rP",
        "colab_type": "code",
        "colab": {}
      },
      "source": [
        "import torch.nn as nn\n",
        "import torch.nn.functional as F\n",
        "import torch.optim as optim\n",
        "\n"
      ],
      "execution_count": null,
      "outputs": []
    },
    {
      "cell_type": "code",
      "metadata": {
        "id": "HF4uE0S4o38h",
        "colab_type": "code",
        "colab": {}
      },
      "source": [
        "class Net(nn.Module) :                            #here Module is the base super class to all the neural network modules\n",
        "    def __init__(self) : \n",
        "      super(Net,self).__init__()\n",
        "      self.conv1 = nn.Conv2d(1, 10 ,kernel_size=5)\n",
        "      self.conv2 = nn.Conv2d(10 ,20 ,kernel_size = 5)\n",
        "      self.conv2_drop=nn.Dropout2d()\n",
        "      self.fc1 = nn.Linear(320,50)\n",
        "      self.fc2 = nn.Linear(50,10)\n",
        "\n",
        "      def forward(self,x) : \n",
        "        x= F.relu(F.max_pool2d(self.conv1(x),2))\n",
        "        x = F.relu(F.max_pool2d(self.conv2_drop(self.conv2(x)), 2))\n",
        "        x = x.view(-1,320)\n",
        "        x = F.relu(self.fc1(x))\n",
        "        x=F.dropout( x, training =self.training)\n",
        "        x=self.fc2(x)\n",
        "        return F.log_softmax(x)\n",
        "\n"
      ],
      "execution_count": null,
      "outputs": []
    },
    {
      "cell_type": "code",
      "metadata": {
        "id": "-FqmPHbLuReV",
        "colab_type": "code",
        "colab": {}
      },
      "source": [
        "network = Net()\n"
      ],
      "execution_count": null,
      "outputs": []
    }
  ]
}